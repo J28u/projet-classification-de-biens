{
 "cells": [
  {
   "cell_type": "markdown",
   "id": "b2ddfbed-ef7e-4034-a817-efd028744c69",
   "metadata": {},
   "source": [
    "<h1 style=\"font-family:Corbel Light; color:#97a9fd\">Projet 6 : Classifiez automatiquement des biens de consommation </h1>"
   ]
  },
  {
   "cell_type": "markdown",
   "id": "266d65d7-db32-48f2-a921-216577fa1617",
   "metadata": {},
   "source": [
    "<h2 style=\"font-family:Corbel Light; color:#737373\"><span style=\"color:#97a9fd\">Étape 4</span> : Test API</h2>"
   ]
  },
  {
   "cell_type": "markdown",
   "id": "f9c10101-09fd-4d7a-b2fa-33ec73ba3a2c",
   "metadata": {},
   "source": [
    "<h3 style=\"font-family:Corbel Light; color:#737373\">Requirements</h3>"
   ]
  },
  {
   "cell_type": "code",
   "execution_count": 12,
   "id": "9fb222f6-d439-4385-a5fa-3df68194d4ad",
   "metadata": {},
   "outputs": [],
   "source": [
    "import pandas as pd\n",
    "import requests\n",
    "import os\n",
    "\n",
    "from dotenv import load_dotenv"
   ]
  },
  {
   "cell_type": "code",
   "execution_count": 13,
   "id": "04e657f5-3095-47e0-994f-08f27a2d62c4",
   "metadata": {},
   "outputs": [
    {
     "data": {
      "text/plain": [
       "True"
      ]
     },
     "execution_count": 13,
     "metadata": {},
     "output_type": "execute_result"
    }
   ],
   "source": [
    "dotenv_path = os.path.join(os.getcwd(), '.env')\n",
    "load_dotenv(dotenv_path)"
   ]
  },
  {
   "cell_type": "markdown",
   "id": "ee5207b7-72e2-4093-881d-069011650208",
   "metadata": {},
   "source": [
    "<h3 style=\"font-family:Corbel Light; color:#737373\">Test API</h3>"
   ]
  },
  {
   "cell_type": "markdown",
   "id": "73dce5fc-5e2c-4cc3-9845-1bb19726aa39",
   "metadata": {},
   "source": [
    "On va extraire les 10 premiers produits à base de champagne dans un fichier .csv contenant les champs suivants:\n",
    "- foodId, \n",
    "- label, \n",
    "- category, \n",
    "- foodContentsLabel, \n",
    "- image"
   ]
  },
  {
   "cell_type": "code",
   "execution_count": 19,
   "id": "09e7fad5-e4aa-4f52-a7b7-82044a5cfb7d",
   "metadata": {},
   "outputs": [],
   "source": [
    "url = \"https://edamam-food-and-grocery-database.p.rapidapi.com/api/food-database/v2/parser\"\n",
    "\n",
    "headers = {\"X-RapidAPI-Host\": os.getenv(key=\"X-RapidAPI-Host\"),\n",
    "           \"X-RapidAPI-Key\": os.getenv(key=\"X-RapidAPI-Key\")\n",
    "           }\n",
    "\n",
    "params = {'ingr': 'champagne'}"
   ]
  },
  {
   "cell_type": "code",
   "execution_count": 20,
   "id": "8484cbab-8461-44df-a0b1-014620744776",
   "metadata": {},
   "outputs": [
    {
     "name": "stdout",
     "output_type": "stream",
     "text": [
      "status code: 200\n"
     ]
    }
   ],
   "source": [
    "response = requests.get(url, params=params, headers=headers)\n",
    "print('status code:', response.status_code)"
   ]
  },
  {
   "cell_type": "markdown",
   "id": "c85a0668-1281-47a6-900f-23238d94db16",
   "metadata": {},
   "source": [
    "Regardons ce que contient la réponse"
   ]
  },
  {
   "cell_type": "code",
   "execution_count": 21,
   "id": "d3d8c577-bbb6-4237-94f4-a41a01437153",
   "metadata": {},
   "outputs": [
    {
     "data": {
      "text/plain": [
       "{'food': {'foodId': 'food_a656mk2a5dmqb2adiamu6beihduu',\n",
       "  'uri': 'http://www.edamam.com/ontologies/edamam.owl#Food_table_white_wine',\n",
       "  'label': 'Champagne',\n",
       "  'knownAs': 'dry white wine',\n",
       "  'nutrients': {'ENERC_KCAL': 82.0,\n",
       "   'PROCNT': 0.07,\n",
       "   'FAT': 0.0,\n",
       "   'CHOCDF': 2.6,\n",
       "   'FIBTG': 0.0},\n",
       "  'category': 'Generic foods',\n",
       "  'categoryLabel': 'food',\n",
       "  'image': 'https://www.edamam.com/food-img/a71/a718cf3c52add522128929f1f324d2ab.jpg'},\n",
       " 'measures': [{'uri': 'http://www.edamam.com/ontologies/edamam.owl#Measure_unit',\n",
       "   'label': 'Whole',\n",
       "   'weight': 750.0},\n",
       "  {'uri': 'http://www.edamam.com/ontologies/edamam.owl#Measure_serving',\n",
       "   'label': 'Serving',\n",
       "   'weight': 147.0},\n",
       "  {'uri': 'http://www.edamam.com/ontologies/edamam.owl#Measure_splash',\n",
       "   'label': 'Splash',\n",
       "   'weight': 84.0},\n",
       "  {'uri': 'http://www.edamam.com/ontologies/edamam.owl#Measure_gram',\n",
       "   'label': 'Gram',\n",
       "   'weight': 1.0},\n",
       "  {'uri': 'http://www.edamam.com/ontologies/edamam.owl#Measure_ounce',\n",
       "   'label': 'Ounce',\n",
       "   'weight': 28.349523125},\n",
       "  {'uri': 'http://www.edamam.com/ontologies/edamam.owl#Measure_pound',\n",
       "   'label': 'Pound',\n",
       "   'weight': 453.59237},\n",
       "  {'uri': 'http://www.edamam.com/ontologies/edamam.owl#Measure_kilogram',\n",
       "   'label': 'Kilogram',\n",
       "   'weight': 1000.0},\n",
       "  {'uri': 'http://www.edamam.com/ontologies/edamam.owl#Measure_cup',\n",
       "   'label': 'Cup',\n",
       "   'weight': 235.2},\n",
       "  {'uri': 'http://www.edamam.com/ontologies/edamam.owl#Measure_bottle',\n",
       "   'label': 'Bottle',\n",
       "   'weight': 745.599200575638},\n",
       "  {'uri': 'http://www.edamam.com/ontologies/edamam.owl#Measure_fluid_ounce',\n",
       "   'label': 'Fluid ounce',\n",
       "   'weight': 29.4}]}"
      ]
     },
     "execution_count": 21,
     "metadata": {},
     "output_type": "execute_result"
    }
   ],
   "source": [
    "response.json()['hints'][0]"
   ]
  },
  {
   "cell_type": "code",
   "execution_count": 22,
   "id": "5c16d90f-b3e5-4139-85bd-b3c2309d915f",
   "metadata": {},
   "outputs": [],
   "source": [
    "col_to_keep = ['foodId', 'label', 'category', 'foodContentsLabel', 'image']\n",
    "extract_df = pd.DataFrame(columns=col_to_keep)\n",
    "\n",
    "for idx, product in enumerate(response.json()['hints'][:10]):\n",
    "    filtered_dict = {k: product['food'][k]\n",
    "                     for k in product['food'] if k in col_to_keep}\n",
    "    extract_df = pd.concat([extract_df,\n",
    "                            pd.DataFrame(filtered_dict, index=[idx])]\n",
    "                           )"
   ]
  },
  {
   "cell_type": "code",
   "execution_count": 23,
   "id": "4504ee58-d2c6-40c8-a5f6-d4e576033164",
   "metadata": {},
   "outputs": [
    {
     "data": {
      "text/plain": [
       "(10, 5)"
      ]
     },
     "execution_count": 23,
     "metadata": {},
     "output_type": "execute_result"
    }
   ],
   "source": [
    "extract_df.shape"
   ]
  },
  {
   "cell_type": "code",
   "execution_count": 24,
   "id": "10e4a0d2-dd9a-4a20-9789-e00bcc5caa96",
   "metadata": {},
   "outputs": [
    {
     "data": {
      "text/html": [
       "<div>\n",
       "<style scoped>\n",
       "    .dataframe tbody tr th:only-of-type {\n",
       "        vertical-align: middle;\n",
       "    }\n",
       "\n",
       "    .dataframe tbody tr th {\n",
       "        vertical-align: top;\n",
       "    }\n",
       "\n",
       "    .dataframe thead th {\n",
       "        text-align: right;\n",
       "    }\n",
       "</style>\n",
       "<table border=\"1\" class=\"dataframe\">\n",
       "  <thead>\n",
       "    <tr style=\"text-align: right;\">\n",
       "      <th></th>\n",
       "      <th>foodId</th>\n",
       "      <th>label</th>\n",
       "      <th>category</th>\n",
       "      <th>foodContentsLabel</th>\n",
       "      <th>image</th>\n",
       "    </tr>\n",
       "  </thead>\n",
       "  <tbody>\n",
       "    <tr>\n",
       "      <th>0</th>\n",
       "      <td>food_a656mk2a5dmqb2adiamu6beihduu</td>\n",
       "      <td>Champagne</td>\n",
       "      <td>Generic foods</td>\n",
       "      <td>NaN</td>\n",
       "      <td>https://www.edamam.com/food-img/a71/a718cf3c52...</td>\n",
       "    </tr>\n",
       "    <tr>\n",
       "      <th>1</th>\n",
       "      <td>food_b753ithamdb8psbt0w2k9aquo06c</td>\n",
       "      <td>Champagne Vinaigrette, Champagne</td>\n",
       "      <td>Packaged foods</td>\n",
       "      <td>OLIVE OIL; BALSAMIC VINEGAR; CHAMPAGNE VINEGAR...</td>\n",
       "      <td>NaN</td>\n",
       "    </tr>\n",
       "    <tr>\n",
       "      <th>2</th>\n",
       "      <td>food_b3dyababjo54xobm6r8jzbghjgqe</td>\n",
       "      <td>Champagne Vinaigrette, Champagne</td>\n",
       "      <td>Packaged foods</td>\n",
       "      <td>INGREDIENTS: WATER; CANOLA OIL; CHAMPAGNE VINE...</td>\n",
       "      <td>https://www.edamam.com/food-img/d88/d88b64d973...</td>\n",
       "    </tr>\n",
       "    <tr>\n",
       "      <th>3</th>\n",
       "      <td>food_a9e0ghsamvoc45bwa2ybsa3gken9</td>\n",
       "      <td>Champagne Vinaigrette, Champagne</td>\n",
       "      <td>Packaged foods</td>\n",
       "      <td>CANOLA AND SOYBEAN OIL; WHITE WINE (CONTAINS S...</td>\n",
       "      <td>NaN</td>\n",
       "    </tr>\n",
       "    <tr>\n",
       "      <th>4</th>\n",
       "      <td>food_an4jjueaucpus2a3u1ni8auhe7q9</td>\n",
       "      <td>Champagne Vinaigrette, Champagne</td>\n",
       "      <td>Packaged foods</td>\n",
       "      <td>WATER; CANOLA AND SOYBEAN OIL; WHITE WINE (CON...</td>\n",
       "      <td>NaN</td>\n",
       "    </tr>\n",
       "    <tr>\n",
       "      <th>5</th>\n",
       "      <td>food_bmu5dmkazwuvpaa5prh1daa8jxs0</td>\n",
       "      <td>Champagne Dressing, Champagne</td>\n",
       "      <td>Packaged foods</td>\n",
       "      <td>SOYBEAN OIL; WHITE WINE (PRESERVED WITH SULFIT...</td>\n",
       "      <td>https://www.edamam.com/food-img/ab2/ab2459fc2a...</td>\n",
       "    </tr>\n",
       "    <tr>\n",
       "      <th>6</th>\n",
       "      <td>food_alpl44taoyv11ra0lic1qa8xculi</td>\n",
       "      <td>Champagne Buttercream</td>\n",
       "      <td>Generic meals</td>\n",
       "      <td>sugar; butter; shortening; vanilla; champagne;...</td>\n",
       "      <td>NaN</td>\n",
       "    </tr>\n",
       "    <tr>\n",
       "      <th>7</th>\n",
       "      <td>food_byap67hab6evc3a0f9w1oag3s0qf</td>\n",
       "      <td>Champagne Sorbet</td>\n",
       "      <td>Generic meals</td>\n",
       "      <td>Sugar; Lemon juice; brandy; Champagne; Peach</td>\n",
       "      <td>NaN</td>\n",
       "    </tr>\n",
       "    <tr>\n",
       "      <th>8</th>\n",
       "      <td>food_am5egz6aq3fpjlaf8xpkdbc2asis</td>\n",
       "      <td>Champagne Truffles</td>\n",
       "      <td>Generic meals</td>\n",
       "      <td>butter; cocoa; sweetened condensed milk; vanil...</td>\n",
       "      <td>NaN</td>\n",
       "    </tr>\n",
       "    <tr>\n",
       "      <th>9</th>\n",
       "      <td>food_bcz8rhiajk1fuva0vkfmeakbouc0</td>\n",
       "      <td>Champagne Vinaigrette</td>\n",
       "      <td>Generic meals</td>\n",
       "      <td>champagne vinegar; olive oil; Dijon mustard; s...</td>\n",
       "      <td>NaN</td>\n",
       "    </tr>\n",
       "  </tbody>\n",
       "</table>\n",
       "</div>"
      ],
      "text/plain": [
       "                              foodId                             label  \\\n",
       "0  food_a656mk2a5dmqb2adiamu6beihduu                         Champagne   \n",
       "1  food_b753ithamdb8psbt0w2k9aquo06c  Champagne Vinaigrette, Champagne   \n",
       "2  food_b3dyababjo54xobm6r8jzbghjgqe  Champagne Vinaigrette, Champagne   \n",
       "3  food_a9e0ghsamvoc45bwa2ybsa3gken9  Champagne Vinaigrette, Champagne   \n",
       "4  food_an4jjueaucpus2a3u1ni8auhe7q9  Champagne Vinaigrette, Champagne   \n",
       "5  food_bmu5dmkazwuvpaa5prh1daa8jxs0     Champagne Dressing, Champagne   \n",
       "6  food_alpl44taoyv11ra0lic1qa8xculi             Champagne Buttercream   \n",
       "7  food_byap67hab6evc3a0f9w1oag3s0qf                  Champagne Sorbet   \n",
       "8  food_am5egz6aq3fpjlaf8xpkdbc2asis                Champagne Truffles   \n",
       "9  food_bcz8rhiajk1fuva0vkfmeakbouc0             Champagne Vinaigrette   \n",
       "\n",
       "         category                                  foodContentsLabel  \\\n",
       "0   Generic foods                                                NaN   \n",
       "1  Packaged foods  OLIVE OIL; BALSAMIC VINEGAR; CHAMPAGNE VINEGAR...   \n",
       "2  Packaged foods  INGREDIENTS: WATER; CANOLA OIL; CHAMPAGNE VINE...   \n",
       "3  Packaged foods  CANOLA AND SOYBEAN OIL; WHITE WINE (CONTAINS S...   \n",
       "4  Packaged foods  WATER; CANOLA AND SOYBEAN OIL; WHITE WINE (CON...   \n",
       "5  Packaged foods  SOYBEAN OIL; WHITE WINE (PRESERVED WITH SULFIT...   \n",
       "6   Generic meals  sugar; butter; shortening; vanilla; champagne;...   \n",
       "7   Generic meals       Sugar; Lemon juice; brandy; Champagne; Peach   \n",
       "8   Generic meals  butter; cocoa; sweetened condensed milk; vanil...   \n",
       "9   Generic meals  champagne vinegar; olive oil; Dijon mustard; s...   \n",
       "\n",
       "                                               image  \n",
       "0  https://www.edamam.com/food-img/a71/a718cf3c52...  \n",
       "1                                                NaN  \n",
       "2  https://www.edamam.com/food-img/d88/d88b64d973...  \n",
       "3                                                NaN  \n",
       "4                                                NaN  \n",
       "5  https://www.edamam.com/food-img/ab2/ab2459fc2a...  \n",
       "6                                                NaN  \n",
       "7                                                NaN  \n",
       "8                                                NaN  \n",
       "9                                                NaN  "
      ]
     },
     "execution_count": 24,
     "metadata": {},
     "output_type": "execute_result"
    }
   ],
   "source": [
    "extract_df.head(10)"
   ]
  },
  {
   "cell_type": "code",
   "execution_count": 25,
   "id": "18cea3b8-83e4-4aa7-95e6-4590cfdd971a",
   "metadata": {},
   "outputs": [],
   "source": [
    "extract_df.to_csv('champagne_extract.csv', index=False)"
   ]
  },
  {
   "cell_type": "markdown",
   "id": "da0001ce-3f69-49a5-af5f-580d8a80765a",
   "metadata": {},
   "source": [
    "<h3 style=\"font-family:Corbel Light; color:#737373\">Principes RGPD</h3>"
   ]
  },
  {
   "cell_type": "markdown",
   "id": "0f74e588-2d49-467e-bff0-b9c4153e8391",
   "metadata": {},
   "source": [
    "**CE6 Vous avez veillé au respect des normes RGPD dans toutes phases de la collecte et du stockage des données.**"
   ]
  },
  {
   "cell_type": "markdown",
   "id": "04a66e5c-1bae-46c4-9539-6b6cac57131d",
   "metadata": {},
   "source": [
    "Les informations enregistrées ne concernent pas des personnes physiques susceptibles d'être identifiées et nous respectons bien les 5 grands principes des régles de protection des données personnelles (RGPD), à savoir :\n",
    "\n",
    "- principe de finalité : les informations enregistrées le sont dans le but de valider un exercice de formation, qui est précis, légal et légitime. \n",
    "- principe de proportionnalité et de pertinence : les informations enregistrées sont pertinentes et strictement nécessaires au regard de la finalité du fichier.\n",
    "- principe d'une durée de conservation limitée : ce fichier sera supprimé après la fin de la formation (20 août 2023)\n",
    "- principe de sécurité et de confidentialité : je garantis la sécurité des informations détenues par le fichier\n",
    "- droits des personnes : il ne s'agit pas de données à caractère personnel."
   ]
  }
 ],
 "metadata": {
  "kernelspec": {
   "display_name": "Python (myenv)",
   "language": "python",
   "name": "myenv"
  },
  "language_info": {
   "codemirror_mode": {
    "name": "ipython",
    "version": 3
   },
   "file_extension": ".py",
   "mimetype": "text/x-python",
   "name": "python",
   "nbconvert_exporter": "python",
   "pygments_lexer": "ipython3",
   "version": "3.9.12"
  },
  "toc": {
   "base_numbering": 1,
   "nav_menu": {},
   "number_sections": true,
   "sideBar": true,
   "skip_h1_title": false,
   "title_cell": "Table of Contents",
   "title_sidebar": "Contents",
   "toc_cell": false,
   "toc_position": {},
   "toc_section_display": true,
   "toc_window_display": false
  }
 },
 "nbformat": 4,
 "nbformat_minor": 5
}
